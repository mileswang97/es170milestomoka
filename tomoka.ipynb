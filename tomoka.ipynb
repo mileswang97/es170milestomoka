{
 "cells": [
  {
   "cell_type": "code",
   "execution_count": 1,
   "metadata": {},
   "outputs": [],
   "source": [
    "from sklearn.datasets import make_blobs\n",
    "import numpy as np\n",
    "import matplotlib.pyplot as plt\n",
    "import math\n",
    "import time"
   ]
  },
  {
   "cell_type": "code",
   "execution_count": 2,
   "metadata": {},
   "outputs": [],
   "source": [
    "# import math lib\n",
    "from math import pi\n",
    "\n",
    "# import Qiskit\n",
    "from qiskit import Aer, IBMQ, execute\n",
    "from qiskit import QuantumCircuit, ClassicalRegister, QuantumRegister\n",
    "\n",
    "# import basic plot tools\n",
    "from qiskit.tools.visualization import plot_histogram"
   ]
  },
  {
   "cell_type": "code",
   "execution_count": 3,
   "metadata": {},
   "outputs": [],
   "source": [
    "# To use local qasm simulator\n",
    "backend = Aer.get_backend('qasm_simulator')"
   ]
  },
  {
   "cell_type": "code",
   "execution_count": 4,
   "metadata": {},
   "outputs": [],
   "source": [
    "def get_theta(d):\n",
    "    x = d[0]\n",
    "    y = d[1]\n",
    "    \n",
    "    theta = 2*math.acos((x+y)/2.0)\n",
    "    return theta"
   ]
  },
  {
   "cell_type": "code",
   "execution_count": 30,
   "metadata": {},
   "outputs": [],
   "source": [
    "def get_Distance(x,y):\n",
    "    theta_1 = get_theta(x)\n",
    "    theta_2 = get_theta(y)\n",
    "    \n",
    "    # create Quantum Register called \"qr\" with 3 qubits\n",
    "    qr = QuantumRegister(3, name=\"qr\")\n",
    "    # create Classical Register called \"cr\" with 5 bits\n",
    "    cr = ClassicalRegister(3, name=\"cr\")\n",
    "\n",
    "    # Creating Quantum Circuit called \"qc\" involving your Quantum Register \"qr\"\n",
    "    # and your Classical Register \"cr\"\n",
    "    qc = QuantumCircuit(qr, cr, name=\"k_means\")\n",
    "    \n",
    "    qc.h(qr[0])\n",
    "    qc.h(qr[1])\n",
    "    qc.h(qr[2])\n",
    "    qc.u3(theta_1, pi, pi, qr[1])\n",
    "    qc.u3(theta_2, pi, pi, qr[2])\n",
    "    qc.cswap(qr[0], qr[1], qr[2])\n",
    "    qc.h(qr[0])\n",
    "\n",
    "    qc.measure(qr[0], cr[0])\n",
    "    qc.reset(qr)\n",
    "\n",
    "    #print('----before run----')\n",
    "    job = execute(qc,backend=backend, shots=1024)\n",
    "    #print('----after run----')\n",
    "    result = job.result()\n",
    "    #data = result.get_data()['counts']\n",
    "    data = result.get_counts(qc)\n",
    "    \n",
    "    if len(data)==1:\n",
    "        return 0.0\n",
    "    else:\n",
    "        return data['001']/1024.0\n",
    "    \n",
    "def get_Distances(x,y):    \n",
    "    theta_1 = get_theta(x)\n",
    "    theta_2 = get_theta(y)\n",
    "\n",
    "    qr = QuantumRegister(3)\n",
    "    cr = ClassicalRegister(3)\n",
    "    qc = QuantumCircuit ( qr, cr, name=\"k_means\")\n",
    "\n",
    "    # Compose the quantum circuit via qiskit\n",
    "    qc.h(qr[1])\n",
    "    qc.h(qr[0])\n",
    "    qc.h(qr[2])\n",
    "\n",
    "    qc.u3(theta_1, pi, pi, qr[0])\n",
    "    qc.u3(theta_2, pi, pi, qr[2])\n",
    "    qc.cswap(qr[1], qr[0], qr[2])\n",
    "    qc.h(qr[1])\n",
    "    qc.measure(qr[1], cr[1])\n",
    "    #qc.reset(qr)\n",
    "\n",
    "    # eseguo il circuito costruito sulla coppia I,J\n",
    "    job_exp = execute(qc, backend=backend, shots=2048) \n",
    "    result = job_exp.result()\n",
    "    # calculate the ratio between the 0 and tha one result in measure registry\n",
    "    v1=result.get_counts(qc)['000']\n",
    "    if '010' in result.get_counts(qc):\n",
    "        v2=result.get_counts(qc)['010']\n",
    "    else:\n",
    "        v2=0\n",
    "    prob=v2/(v1+v2) # Probability of obtaining 1 that is \"quantum distance\"\n",
    "    return prob\n",
    "    \n",
    "    "
   ]
  },
  {
   "cell_type": "code",
   "execution_count": 6,
   "metadata": {},
   "outputs": [],
   "source": [
    "def get_data(n,k,std):\n",
    "    data = make_blobs(n_samples=n, n_features=2, centers=k, cluster_std=std, random_state=100)\n",
    "    points = data[0]\n",
    "    centers = data[1]\n",
    "    \n",
    "    return points,centers"
   ]
  },
  {
   "cell_type": "code",
   "execution_count": 7,
   "metadata": {},
   "outputs": [],
   "source": [
    "def draw_plot(points,centers,label=True):\n",
    "    if label==False:\n",
    "        plt.scatter(points[:,0], points[:,1])\n",
    "    else:\n",
    "        plt.scatter(points[:,0], points[:,1], c=centers, cmap='viridis')\n",
    "    plt.xlim(0,1)\n",
    "    plt.ylim(0,1)\n",
    "    plt.show()"
   ]
  },
  {
   "cell_type": "code",
   "execution_count": 8,
   "metadata": {},
   "outputs": [],
   "source": [
    "def plot_centroids(centers):\n",
    "    plt.scatter(centers[:,0], centers[:,1])\n",
    "    plt.xlim(0,1)\n",
    "    plt.ylim(0,1)\n",
    "    plt.show()"
   ]
  },
  {
   "cell_type": "code",
   "execution_count": 9,
   "metadata": {},
   "outputs": [],
   "source": [
    "def initialize_centers(points,k):\n",
    "    return points[np.random.randint(points.shape[0],size=k),:]"
   ]
  },
  {
   "cell_type": "code",
   "execution_count": 10,
   "metadata": {},
   "outputs": [],
   "source": [
    "def get_distance(p1, p2):\n",
    "    return np.sqrt(np.sum((p1-p2)*(p1-p2)))"
   ]
  },
  {
   "cell_type": "code",
   "execution_count": 11,
   "metadata": {},
   "outputs": [],
   "source": [
    "def find_nearest_neighbour(points,centroids):\n",
    "    \n",
    "    n = len(points)\n",
    "    k = centroids.shape[0]\n",
    "    centers = np.zeros(n)\n",
    "    \n",
    "    for i in range(n):\n",
    "        min_dis = 10000\n",
    "        ind = 0\n",
    "        for j in range(k):\n",
    "            \n",
    "            temp_dis = get_Distance(points[i,:],centroids[j,:])\n",
    "            \n",
    "            if temp_dis < min_dis:\n",
    "                min_dis = temp_dis\n",
    "                ind = j\n",
    "        centers[i] = ind\n",
    "    \n",
    "    return centers"
   ]
  },
  {
   "cell_type": "code",
   "execution_count": 12,
   "metadata": {},
   "outputs": [],
   "source": [
    "def find_centroids(points,centers):\n",
    "    n = len(points)\n",
    "    k = int(np.max(centers))+1\n",
    "   \n",
    "    centroids = np.zeros([k,2])\n",
    "    \n",
    "    for i in range(k):\n",
    "        #print(points[centers==i])\n",
    "        centroids[i,:] = np.average(points[centers==i])\n",
    "        \n",
    "    return centroids"
   ]
  },
  {
   "cell_type": "code",
   "execution_count": 13,
   "metadata": {},
   "outputs": [],
   "source": [
    "def preprocess(points):\n",
    "    n = len(points)\n",
    "    x = 30.0*np.sqrt(2)\n",
    "    for i in range(n):\n",
    "        points[i,:]+=15\n",
    "        points[i,:]/=x\n",
    "    \n",
    "    return points"
   ]
  },
  {
   "cell_type": "code",
   "execution_count": 14,
   "metadata": {},
   "outputs": [],
   "source": [
    "import sklearn.datasets as datasets\n",
    "## DATASET 1: IRIS FROM SKLEARN\n",
    "# imported as dictionary {'data':, 'target':, 'target_names':}\n",
    "iris_dataset = datasets.load_iris()\n",
    "iris_data = np.array(iris_dataset['data'])\n",
    "iris_target = np.array(iris_dataset['target'])\n",
    "\n",
    "## DATASET 2: WINE FROM SKLEARN\n",
    "wine_dataset = datasets.load_wine()\n",
    "wine_data = np.array(wine_dataset['data'])\n",
    "wine_target = np.array(wine_dataset['target'])\n",
    "\n",
    "## DATASET 3: BREAST CANCER FROM SKLEARN\n",
    "bcancer_dataset = datasets.load_breast_cancer()\n",
    "bcancer_data = np.array(bcancer_dataset['data'])\n",
    "bcancer_target = np.array(bcancer_dataset['target'])"
   ]
  },
  {
   "cell_type": "code",
   "execution_count": 15,
   "metadata": {},
   "outputs": [],
   "source": [
    "from sklearn.datasets import make_blobs\n",
    "\n",
    "def generate_fake_dataset(samples, features, centers, std):\n",
    "    blobs, classes = make_blobs(n_samples=samples, n_features=features, centers=centers, cluster_std=std, random_state=100)\n",
    "    return blobs, classes"
   ]
  },
  {
   "cell_type": "code",
   "execution_count": 16,
   "metadata": {},
   "outputs": [],
   "source": [
    "def kmeans_quantum(samples, class_num):\n",
    "    # choose 6 random samples to be the centroids\n",
    "    samples = preprocess(samples)\n",
    "    indices = np.random.randint(samples.shape[0], size=class_num)\n",
    "    centroid_list = initialize_centers(samples,class_num)\n",
    "    #print(centroid_list)\n",
    "    \n",
    "    #old_class = np.zeros(samples.shape[0])\n",
    "    stop_flag = False\n",
    "    old_centroid_list = centroid_list\n",
    "    start_time = time.time()\n",
    "    counter = 0\n",
    "    print('old', old_centroid_list)\n",
    "    \n",
    "    # assign classes based on current centroids\n",
    "    while not stop_flag:\n",
    "        counter +=1\n",
    "        print(counter)\n",
    "        new_class = find_nearest_neighbour(samples, old_centroid_list)\n",
    "        new_centroid_list = find_centroids(samples, new_class)\n",
    "        print(np.array(old_centroid_list))\n",
    "        print(np.array(new_centroid_list))\n",
    "        #print(new_class)\n",
    "        if np.sum(np.array(new_centroid_list-old_centroid_list)) == 0:\n",
    "            stop_flag = True\n",
    "            stop_time = time.time()\n",
    "        else:\n",
    "            print(\"else reached\")\n",
    "            old_centroid_list = new_centroid_list\n",
    "            #old_class = new_class\n",
    "    print(\"time taken: \", stop_time - start_time, \" seconds\")\n",
    "    return samples, new_class, new_centroid_list"
   ]
  },
  {
   "cell_type": "code",
   "execution_count": 31,
   "metadata": {},
   "outputs": [
    {
     "name": "stdout",
     "output_type": "stream",
     "text": [
      "old [[0.33274827 0.30683553]\n",
      " [0.14379757 0.34170585]\n",
      " [0.43244993 0.62509037]\n",
      " [0.3805631  0.56489387]\n",
      " [0.14379757 0.34170585]]\n",
      "1\n",
      "[[0.33274827 0.30683553]\n",
      " [0.14379757 0.34170585]\n",
      " [0.43244993 0.62509037]\n",
      " [0.3805631  0.56489387]\n",
      " [0.14379757 0.34170585]]\n",
      "[[0.33321743 0.33321743]\n",
      " [0.19305717 0.19305717]\n",
      " [0.52877015 0.52877015]\n",
      " [0.46032108 0.46032108]\n",
      " [0.26349853 0.26349853]]\n",
      "else reached\n",
      "2\n",
      "[[0.33321743 0.33321743]\n",
      " [0.19305717 0.19305717]\n",
      " [0.52877015 0.52877015]\n",
      " [0.46032108 0.46032108]\n",
      " [0.26349853 0.26349853]]\n",
      "[[0.34220523 0.34220523]\n",
      " [0.16284484 0.16284484]\n",
      " [0.50074932 0.50074932]\n",
      " [0.45618528 0.45618528]\n",
      " [0.26019125 0.26019125]]\n",
      "else reached\n",
      "3\n",
      "[[0.34220523 0.34220523]\n",
      " [0.16284484 0.16284484]\n",
      " [0.50074932 0.50074932]\n",
      " [0.45618528 0.45618528]\n",
      " [0.26019125 0.26019125]]\n",
      "[[0.34220523 0.34220523]\n",
      " [0.16284484 0.16284484]\n",
      " [0.52877015 0.52877015]\n",
      " [0.46032108 0.46032108]\n",
      " [0.26019125 0.26019125]]\n",
      "else reached\n",
      "4\n",
      "[[0.34220523 0.34220523]\n",
      " [0.16284484 0.16284484]\n",
      " [0.52877015 0.52877015]\n",
      " [0.46032108 0.46032108]\n",
      " [0.26019125 0.26019125]]\n",
      "[[0.33236689 0.33236689]\n",
      " [0.14325961 0.14325961]\n",
      " [0.50489289 0.50489289]\n",
      " [0.4534229  0.4534229 ]\n",
      " [0.24971675 0.24971675]]\n",
      "else reached\n",
      "5\n",
      "[[0.33236689 0.33236689]\n",
      " [0.14325961 0.14325961]\n",
      " [0.50489289 0.50489289]\n",
      " [0.4534229  0.4534229 ]\n",
      " [0.24971675 0.24971675]]\n",
      "[[0.33321743 0.33321743]\n",
      " [0.14325961 0.14325961]\n",
      " [0.49417142 0.49417142]\n",
      " [0.44377011 0.44377011]\n",
      " [0.24801568 0.24801568]]\n",
      "else reached\n",
      "6\n",
      "[[0.33321743 0.33321743]\n",
      " [0.14325961 0.14325961]\n",
      " [0.49417142 0.49417142]\n",
      " [0.44377011 0.44377011]\n",
      " [0.24801568 0.24801568]]\n",
      "[[0.34220523 0.34220523]\n",
      " [0.14325961 0.14325961]\n",
      " [0.48385125 0.48385125]\n",
      " [0.43464948 0.43464948]\n",
      " [0.25247311 0.25247311]]\n",
      "else reached\n",
      "7\n",
      "[[0.34220523 0.34220523]\n",
      " [0.14325961 0.14325961]\n",
      " [0.48385125 0.48385125]\n",
      " [0.43464948 0.43464948]\n",
      " [0.25247311 0.25247311]]\n",
      "[[0.34220523 0.34220523]\n",
      " [0.14325961 0.14325961]\n",
      " [0.48385125 0.48385125]\n",
      " [0.43464948 0.43464948]\n",
      " [0.25247311 0.25247311]]\n",
      "time taken:  38.27352786064148  seconds\n"
     ]
    }
   ],
   "source": [
    "testx, testy = generate_fake_dataset(20, 2, 5, 3)\n",
    "points,o_centers = get_data(n,k,std)\n",
    "a, b, c = kmeans_quantum(testx, 5)"
   ]
  },
  {
   "cell_type": "code",
   "execution_count": 32,
   "metadata": {},
   "outputs": [
    {
     "name": "stdout",
     "output_type": "stream",
     "text": [
      "0.6736878261243909\n"
     ]
    }
   ],
   "source": [
    "from sklearn.metrics.cluster import v_measure_score\n",
    "print(v_measure_score(b, testy))"
   ]
  },
  {
   "cell_type": "code",
   "execution_count": 25,
   "metadata": {},
   "outputs": [
    {
     "data": {
      "image/png": "[encoded data removed]",
      "text/plain": [
       "<Figure size 432x288 with 1 Axes>"
      ]
     },
     "metadata": {
      "needs_background": "light"
     },
     "output_type": "display_data"
    },
    {
     "data": {
      "image/png": "[encoded data removed]",
      "text/plain": [
       "<Figure size 432x288 with 1 Axes>"
      ]
     },
     "metadata": {
      "needs_background": "light"
     },
     "output_type": "display_data"
    },
    {
     "data": {
      "image/png": "[encoded data removed]",
      "text/plain": [
       "<Figure size 432x288 with 1 Axes>"
      ]
     },
     "metadata": {
      "needs_background": "light"
     },
     "output_type": "display_data"
    },
    {
     "data": {
      "image/png": "[encoded data removed]",
      "text/plain": [
       "<Figure size 432x288 with 1 Axes>"
      ]
     },
     "metadata": {
      "needs_background": "light"
     },
     "output_type": "display_data"
    },
    {
     "data": {
      "image/png": "[encoded data removed]",
      "text/plain": [
       "<Figure size 432x288 with 1 Axes>"
      ]
     },
     "metadata": {
      "needs_background": "light"
     },
     "output_type": "display_data"
    },
    {
     "data": {
      "image/png": "[encoded data removed]",
      "text/plain": [
       "<Figure size 432x288 with 1 Axes>"
      ]
     },
     "metadata": {
      "needs_background": "light"
     },
     "output_type": "display_data"
    }
   ],
   "source": [
    "n = 100      # number of data points\n",
    "k = 4        # Number of centers\n",
    "std = 2      # std of datapoints\n",
    "\n",
    "points,o_centers = get_data(n,k,std)       #dataset\n",
    "\n",
    "points = preprocess(points)                # Normalize dataset\n",
    "plt.figure()                                  \n",
    "draw_plot(points,o_centers,label=False)\n",
    "\n",
    "centroids = initialize_centers(points,k)   # Intialize centroids\n",
    "\n",
    "\n",
    "# run k-means algorithm\n",
    "for i in range(5):\n",
    "    \n",
    "    centers = find_nearest_neighbour(points,centroids)       # find nearest centers\n",
    "    plt.figure()\n",
    "    draw_plot(points,centers)\n",
    "    #plot_centroids(centroids)\n",
    "    centroids = find_centroids(points,centers)               # find centroids"
   ]
  },
  {
   "cell_type": "code",
   "execution_count": null,
   "metadata": {},
   "outputs": [],
   "source": []
  },
  {
   "cell_type": "code",
   "execution_count": 62,
   "metadata": {},
   "outputs": [
    {
     "name": "stdout",
     "output_type": "stream",
     "text": [
      "JOB Ended\n"
     ]
    }
   ],
   "source": [
    "import pandas as pd\n",
    "# Define result dataframe\n",
    "df_res = pd.DataFrame(columns=('Quantum_Distance','ClassicDistance'))\n",
    "\n",
    "#Define a loop to compute the distance between each pair of points\n",
    "\n",
    "elements=30\n",
    "\n",
    "points = preprocess(testx)\n",
    "#main cycle\n",
    "for i in range(0,elements):\n",
    "    for j in range(0,elements): \n",
    "        # Set the parament theta about different point\n",
    "        theta_1 = get_theta(points[i])\n",
    "        theta_2 = get_theta(points[j])\n",
    "        \n",
    "        qr = QuantumRegister(3)\n",
    "        cr = ClassicalRegister(3)\n",
    "        qc = QuantumCircuit ( qr, cr, name=\"k_means\")\n",
    "        \n",
    "        # Compose the quantum circuit via qiskit\n",
    "        qc.h(qr[1])\n",
    "\n",
    "        qc.u3(theta_1, pi, pi, qr[0])\n",
    "        qc.u3(theta_2, pi, pi, qr[2])\n",
    "        qc.cswap(qr[1], qr[0], qr[2])\n",
    "        qc.h(qr[1])\n",
    "        qc.measure(qr[1], cr[1])\n",
    "        \n",
    "        # eseguo il circuito costruito sulla coppia I,J\n",
    "        job_exp = execute(qc, backend=backend, shots=2048) \n",
    "        result = job_exp.result()\n",
    "        # calculate the ratio between the 0 and tha one result in measure registry\n",
    "        v1=result.get_counts(qc)['000']\n",
    "        if '010' in result.get_counts(qc):\n",
    "            v2=result.get_counts(qc)['010']\n",
    "        else:\n",
    "            v2=0\n",
    "        prob=v2/(v1+v2) # Probability of obtaining 1 that is \"quantum distance\"\n",
    "        # Classic distance calculation\n",
    "        cl_dist = 0\n",
    "        for k in range(points.shape[1]):\n",
    "            cl_dist += (points[i][k] - points[j][k])**2\n",
    "        cl_dist = math.sqrt(cl_dist)\n",
    "\n",
    "        #Final output writing\n",
    "        df_res = df_res.append({'Quantum_Distance':prob,'ClassicDistance':cl_dist} , ignore_index=True)\n",
    "print('JOB Ended')"
   ]
  },
  {
   "cell_type": "code",
   "execution_count": 63,
   "metadata": {},
   "outputs": [
    {
     "name": "stdout",
     "output_type": "stream",
     "text": [
      "74%\n"
     ]
    }
   ],
   "source": [
    "dataset = df_res\n",
    "cor=dataset['Quantum_Distance'].corr(dataset['ClassicDistance'],method='pearson')\n",
    "print(\"{0:.0f}%\".format(cor * 100))"
   ]
  },
  {
   "cell_type": "code",
   "execution_count": 64,
   "metadata": {},
   "outputs": [
    {
     "data": {
      "text/html": [
       "<div>\n",
       "<style scoped>\n",
       "    .dataframe tbody tr th:only-of-type {\n",
       "        vertical-align: middle;\n",
       "    }\n",
       "\n",
       "    .dataframe tbody tr th {\n",
       "        vertical-align: top;\n",
       "    }\n",
       "\n",
       "    .dataframe thead th {\n",
       "        text-align: right;\n",
       "    }\n",
       "</style>\n",
       "<table border=\"1\" class=\"dataframe\">\n",
       "  <thead>\n",
       "    <tr style=\"text-align: right;\">\n",
       "      <th></th>\n",
       "      <th>Quantum_Distance</th>\n",
       "      <th>ClassicDistance</th>\n",
       "    </tr>\n",
       "  </thead>\n",
       "  <tbody>\n",
       "    <tr>\n",
       "      <th>0</th>\n",
       "      <td>0.000000</td>\n",
       "      <td>0.000000</td>\n",
       "    </tr>\n",
       "    <tr>\n",
       "      <th>1</th>\n",
       "      <td>0.000488</td>\n",
       "      <td>0.060886</td>\n",
       "    </tr>\n",
       "    <tr>\n",
       "      <th>2</th>\n",
       "      <td>0.003418</td>\n",
       "      <td>0.147311</td>\n",
       "    </tr>\n",
       "    <tr>\n",
       "      <th>3</th>\n",
       "      <td>0.000000</td>\n",
       "      <td>0.038586</td>\n",
       "    </tr>\n",
       "    <tr>\n",
       "      <th>4</th>\n",
       "      <td>0.016602</td>\n",
       "      <td>0.271450</td>\n",
       "    </tr>\n",
       "    <tr>\n",
       "      <th>...</th>\n",
       "      <td>...</td>\n",
       "      <td>...</td>\n",
       "    </tr>\n",
       "    <tr>\n",
       "      <th>895</th>\n",
       "      <td>0.000977</td>\n",
       "      <td>0.058857</td>\n",
       "    </tr>\n",
       "    <tr>\n",
       "      <th>896</th>\n",
       "      <td>0.000000</td>\n",
       "      <td>0.111866</td>\n",
       "    </tr>\n",
       "    <tr>\n",
       "      <th>897</th>\n",
       "      <td>0.001953</td>\n",
       "      <td>0.151636</td>\n",
       "    </tr>\n",
       "    <tr>\n",
       "      <th>898</th>\n",
       "      <td>0.009766</td>\n",
       "      <td>0.245679</td>\n",
       "    </tr>\n",
       "    <tr>\n",
       "      <th>899</th>\n",
       "      <td>0.000000</td>\n",
       "      <td>0.000000</td>\n",
       "    </tr>\n",
       "  </tbody>\n",
       "</table>\n",
       "<p>900 rows × 2 columns</p>\n",
       "</div>"
      ],
      "text/plain": [
       "     Quantum_Distance  ClassicDistance\n",
       "0            0.000000         0.000000\n",
       "1            0.000488         0.060886\n",
       "2            0.003418         0.147311\n",
       "3            0.000000         0.038586\n",
       "4            0.016602         0.271450\n",
       "..                ...              ...\n",
       "895          0.000977         0.058857\n",
       "896          0.000000         0.111866\n",
       "897          0.001953         0.151636\n",
       "898          0.009766         0.245679\n",
       "899          0.000000         0.000000\n",
       "\n",
       "[900 rows x 2 columns]"
      ]
     },
     "execution_count": 64,
     "metadata": {},
     "output_type": "execute_result"
    }
   ],
   "source": [
    "dataset"
   ]
  },
  {
   "cell_type": "code",
   "execution_count": null,
   "metadata": {},
   "outputs": [],
   "source": []
  }
 ],
 "metadata": {
  "kernelspec": {
   "display_name": "python3",
   "language": "python",
   "name": "python3"
  },
  "language_info": {
   "codemirror_mode": {
    "name": "ipython",
    "version": 3
   },
   "file_extension": ".py",
   "mimetype": "text/x-python",
   "name": "python",
   "nbconvert_exporter": "python",
   "pygments_lexer": "ipython3",
   "version": "3.7.4"
  }
 },
 "nbformat": 4,
 "nbformat_minor": 2
}
