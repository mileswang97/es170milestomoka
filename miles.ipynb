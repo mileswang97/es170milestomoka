{
 "cells": [
  {
   "cell_type": "code",
   "execution_count": 1,
   "metadata": {},
   "outputs": [
    {
     "name": "stdout",
     "output_type": "stream",
     "text": [
      "iris shape (150, 4)\n",
      "wine shape (178, 13)\n",
      "bcancer shape (569, 30)\n"
     ]
    }
   ],
   "source": [
    "#preload some datasets\n",
    "\n",
    "import sklearn.datasets as datasets\n",
    "import numpy as np\n",
    "import matplotlib.pyplot as plt\n",
    "import math\n",
    "\n",
    "# Want a variety of datasets such that:\n",
    "## Num of features are varied but datapoints are similar (to measure speed vs feature size)\n",
    "## Num of datapoints are varied but features are similar (to measure speed vs dataset size)\n",
    "\n",
    "## DATASET 1: IRIS FROM SKLEARN\n",
    "# imported as dictionary {'data':, 'target':, 'target_names':}\n",
    "iris_dataset = datasets.load_iris()\n",
    "iris_data = np.array(iris_dataset['data'])\n",
    "iris_target = np.array(iris_dataset['target'])\n",
    "\n",
    "## DATASET 2: WINE FROM SKLEARN\n",
    "wine_dataset = datasets.load_wine()\n",
    "wine_data = np.array(wine_dataset['data'])\n",
    "wine_target = np.array(wine_dataset['target'])\n",
    "\n",
    "## DATASET 3: BREAST CANCER FROM SKLEARN\n",
    "bcancer_dataset = datasets.load_breast_cancer()\n",
    "bcancer_data = np.array(bcancer_dataset['data'])\n",
    "bcancer_target = np.array(bcancer_dataset['target'])\n",
    "\n",
    "\n",
    "print(\"iris shape\", iris_data.shape)\n",
    "print(\"wine shape\", wine_data.shape)\n",
    "print(\"bcancer shape\", bcancer_data.shape)\n"
   ]
  },
  {
   "cell_type": "code",
   "execution_count": 2,
   "metadata": {},
   "outputs": [],
   "source": [
    "#Likely also some ways to generate fake datasets\n",
    "\n",
    "from sklearn.datasets import make_blobs\n",
    "\n",
    "def generate_fake_dataset(samples, features, centers, std, centerbox):\n",
    "    blobs, classes = make_blobs(n_samples=samples, n_features=features, centers=centers, cluster_std=std, random_state=100, center_box=centerbox)\n",
    "    return blobs, classes\n",
    "\n",
    "def plot_dataset_2D(samples, classes):\n",
    "    plt.scatter(samples[:,0], samples[:,1], c=classes)\n",
    "    #plt.xlim(0,1)\n",
    "    #plt.ylim(0,1)\n",
    "    plt.show()\n",
    "    return"
   ]
  },
  {
   "cell_type": "code",
   "execution_count": 34,
   "metadata": {},
   "outputs": [
    {
     "data": {
      "image/png": "[encoded data removed]",
      "text/plain": [
       "<Figure size 432x288 with 1 Axes>"
      ]
     },
     "metadata": {
      "needs_background": "light"
     },
     "output_type": "display_data"
    }
   ],
   "source": [
    "testx, testy = generate_fake_dataset(200, 2, 5, 0.05, (-0.7,0.7))\n",
    "plot_dataset_2D(testx, testy)"
   ]
  },
  {
   "cell_type": "code",
   "execution_count": 4,
   "metadata": {},
   "outputs": [
    {
     "name": "stdout",
     "output_type": "stream",
     "text": [
      "1588236278.8347085\n"
     ]
    }
   ],
   "source": [
    "import time\n",
    "from copy import deepcopy\n",
    "import os\n",
    "import sys\n",
    "from IPython.display import Image\n",
    "\n",
    "print(time.time())"
   ]
  },
  {
   "cell_type": "code",
   "execution_count": 25,
   "metadata": {},
   "outputs": [],
   "source": [
    "import random\n",
    "\n",
    "def distance(point1, point2):\n",
    "    return np.sqrt(np.sum((point1-point2)*(point1-point2)))\n",
    "\n",
    "def nearest_neighbor_classical(points, centroid_list):\n",
    "    class_array = np.zeros(points.shape[0])\n",
    "    # assign each point to a class\n",
    "    for i in range(points.shape[0]):\n",
    "        min_index = np.argmin(np.array([distance(points[i], centroid) for centroid in centroid_list]))\n",
    "        class_array[i] = min_index \n",
    "    return class_array\n",
    "\n",
    "def centroid_update(points, class_array, centroid_list):\n",
    "    temp_centroid_list = deepcopy(centroid_list)\n",
    "    #print(class_array)\n",
    "    for i in range(centroid_list.shape[0]):\n",
    "        # probably need to fix this\n",
    "        #print(points.shape)\n",
    "        #print(temp_centroid_list[i])\n",
    "        class_sum = np.zeros(points.shape[1])\n",
    "        class_num = 0\n",
    "        for j in range(points.shape[0]):\n",
    "            if class_array[j] == i:\n",
    "                class_sum += points[j]\n",
    "                class_num += 1\n",
    "        temp_centroid_list[i] = np.divide(class_sum, class_num)\n",
    "        #print(\"centroid\", temp_centroid_list[i])\n",
    "        #print(class_num)\n",
    "    return temp_centroid_list\n",
    "\n",
    "def kmeans_classical(samples, class_num):\n",
    "    # choose 6 random samples to be the centroids\n",
    "    indices = random.sample(range(samples.shape[0]), class_num)\n",
    "    centroid_list = np.array([samples[i] for i in indices])\n",
    "    #print(centroid_list)\n",
    "    \n",
    "    old_class = np.zeros(samples.shape[0])\n",
    "    stop_flag = False\n",
    "    old_centroid_list = centroid_list\n",
    "    start_time = time.time()\n",
    "    counter = 0\n",
    "    #print('old', old_centroid_list)\n",
    "    \n",
    "    # assign classes based on current centroids\n",
    "    while not stop_flag:\n",
    "        counter +=1\n",
    "        #print(counter)\n",
    "        new_class = nearest_neighbor_classical(samples, old_centroid_list)\n",
    "        new_centroid_list = centroid_update(samples, new_class, old_centroid_list)\n",
    "        #print(np.array(old_centroid_list))\n",
    "        #print(np.array(new_centroid_list))\n",
    "        #print(new_class)\n",
    "        if np.sum(np.array(new_centroid_list-old_centroid_list)) == 0:\n",
    "            stop_flag = True\n",
    "            stop_time = time.time()\n",
    "        else:\n",
    "            #print(\"else reached\")\n",
    "            old_centroid_list = new_centroid_list\n",
    "            #old_class = new_class\n",
    "    timetaken = stop_time - start_time\n",
    "    #print(\"time taken: \", stop_time - start_time, \" seconds\")\n",
    "    return samples, new_class, new_centroid_list, timetaken\n",
    "    "
   ]
  },
  {
   "cell_type": "code",
   "execution_count": 21,
   "metadata": {},
   "outputs": [
    {
     "name": "stderr",
     "output_type": "stream",
     "text": [
      "C:\\Users\\miles\\Anaconda3\\lib\\site-packages\\ipykernel_launcher.py:27: RuntimeWarning: invalid value encountered in true_divide\n"
     ]
    },
    {
     "ename": "KeyboardInterrupt",
     "evalue": "",
     "output_type": "error",
     "traceback": [
      "\u001b[1;31m---------------------------------------------------------------------------\u001b[0m",
      "\u001b[1;31mKeyboardInterrupt\u001b[0m                         Traceback (most recent call last)",
      "\u001b[1;32m<ipython-input-21-7e7c4134ffb9>\u001b[0m in \u001b[0;36m<module>\u001b[1;34m\u001b[0m\n\u001b[1;32m----> 1\u001b[1;33m \u001b[0ma\u001b[0m\u001b[1;33m,\u001b[0m \u001b[0mb\u001b[0m\u001b[1;33m,\u001b[0m \u001b[0mc\u001b[0m\u001b[1;33m,\u001b[0m \u001b[0m_\u001b[0m \u001b[1;33m=\u001b[0m \u001b[0mkmeans_classical\u001b[0m\u001b[1;33m(\u001b[0m\u001b[0mtestx\u001b[0m\u001b[1;33m,\u001b[0m \u001b[1;36m5\u001b[0m\u001b[1;33m)\u001b[0m\u001b[1;33m\u001b[0m\u001b[1;33m\u001b[0m\u001b[0m\n\u001b[0m\u001b[0;32m      2\u001b[0m \u001b[0mprint\u001b[0m\u001b[1;33m(\u001b[0m\u001b[0ma\u001b[0m\u001b[1;33m[\u001b[0m\u001b[1;36m0\u001b[0m\u001b[1;33m]\u001b[0m\u001b[1;33m)\u001b[0m\u001b[1;33m\u001b[0m\u001b[1;33m\u001b[0m\u001b[0m\n",
      "\u001b[1;32m<ipython-input-19-c5d62ea90740>\u001b[0m in \u001b[0;36mkmeans_classical\u001b[1;34m(samples, class_num)\u001b[0m\n\u001b[0;32m     47\u001b[0m         \u001b[0mcounter\u001b[0m \u001b[1;33m+=\u001b[0m\u001b[1;36m1\u001b[0m\u001b[1;33m\u001b[0m\u001b[1;33m\u001b[0m\u001b[0m\n\u001b[0;32m     48\u001b[0m         \u001b[1;31m#print(counter)\u001b[0m\u001b[1;33m\u001b[0m\u001b[1;33m\u001b[0m\u001b[1;33m\u001b[0m\u001b[0m\n\u001b[1;32m---> 49\u001b[1;33m         \u001b[0mnew_class\u001b[0m \u001b[1;33m=\u001b[0m \u001b[0mnearest_neighbor_classical\u001b[0m\u001b[1;33m(\u001b[0m\u001b[0msamples\u001b[0m\u001b[1;33m,\u001b[0m \u001b[0mold_centroid_list\u001b[0m\u001b[1;33m)\u001b[0m\u001b[1;33m\u001b[0m\u001b[1;33m\u001b[0m\u001b[0m\n\u001b[0m\u001b[0;32m     50\u001b[0m         \u001b[0mnew_centroid_list\u001b[0m \u001b[1;33m=\u001b[0m \u001b[0mcentroid_update\u001b[0m\u001b[1;33m(\u001b[0m\u001b[0msamples\u001b[0m\u001b[1;33m,\u001b[0m \u001b[0mnew_class\u001b[0m\u001b[1;33m,\u001b[0m \u001b[0mold_centroid_list\u001b[0m\u001b[1;33m)\u001b[0m\u001b[1;33m\u001b[0m\u001b[1;33m\u001b[0m\u001b[0m\n\u001b[0;32m     51\u001b[0m         \u001b[1;31m#print(np.array(old_centroid_list))\u001b[0m\u001b[1;33m\u001b[0m\u001b[1;33m\u001b[0m\u001b[1;33m\u001b[0m\u001b[0m\n",
      "\u001b[1;32m<ipython-input-19-c5d62ea90740>\u001b[0m in \u001b[0;36mnearest_neighbor_classical\u001b[1;34m(points, centroid_list)\u001b[0m\n\u001b[0;32m      8\u001b[0m     \u001b[1;31m# assign each point to a class\u001b[0m\u001b[1;33m\u001b[0m\u001b[1;33m\u001b[0m\u001b[1;33m\u001b[0m\u001b[0m\n\u001b[0;32m      9\u001b[0m     \u001b[1;32mfor\u001b[0m \u001b[0mi\u001b[0m \u001b[1;32min\u001b[0m \u001b[0mrange\u001b[0m\u001b[1;33m(\u001b[0m\u001b[0mpoints\u001b[0m\u001b[1;33m.\u001b[0m\u001b[0mshape\u001b[0m\u001b[1;33m[\u001b[0m\u001b[1;36m0\u001b[0m\u001b[1;33m]\u001b[0m\u001b[1;33m)\u001b[0m\u001b[1;33m:\u001b[0m\u001b[1;33m\u001b[0m\u001b[1;33m\u001b[0m\u001b[0m\n\u001b[1;32m---> 10\u001b[1;33m         \u001b[0mmin_index\u001b[0m \u001b[1;33m=\u001b[0m \u001b[0mnp\u001b[0m\u001b[1;33m.\u001b[0m\u001b[0margmin\u001b[0m\u001b[1;33m(\u001b[0m\u001b[0mnp\u001b[0m\u001b[1;33m.\u001b[0m\u001b[0marray\u001b[0m\u001b[1;33m(\u001b[0m\u001b[1;33m[\u001b[0m\u001b[0mdistance\u001b[0m\u001b[1;33m(\u001b[0m\u001b[0mpoints\u001b[0m\u001b[1;33m[\u001b[0m\u001b[0mi\u001b[0m\u001b[1;33m]\u001b[0m\u001b[1;33m,\u001b[0m \u001b[0mcentroid\u001b[0m\u001b[1;33m)\u001b[0m \u001b[1;32mfor\u001b[0m \u001b[0mcentroid\u001b[0m \u001b[1;32min\u001b[0m \u001b[0mcentroid_list\u001b[0m\u001b[1;33m]\u001b[0m\u001b[1;33m)\u001b[0m\u001b[1;33m)\u001b[0m\u001b[1;33m\u001b[0m\u001b[1;33m\u001b[0m\u001b[0m\n\u001b[0m\u001b[0;32m     11\u001b[0m         \u001b[0mclass_array\u001b[0m\u001b[1;33m[\u001b[0m\u001b[0mi\u001b[0m\u001b[1;33m]\u001b[0m \u001b[1;33m=\u001b[0m \u001b[0mmin_index\u001b[0m\u001b[1;33m\u001b[0m\u001b[1;33m\u001b[0m\u001b[0m\n\u001b[0;32m     12\u001b[0m     \u001b[1;32mreturn\u001b[0m \u001b[0mclass_array\u001b[0m\u001b[1;33m\u001b[0m\u001b[1;33m\u001b[0m\u001b[0m\n",
      "\u001b[1;32m~\\Anaconda3\\lib\\site-packages\\numpy\\core\\fromnumeric.py\u001b[0m in \u001b[0;36margmin\u001b[1;34m(a, axis, out)\u001b[0m\n\u001b[0;32m   1170\u001b[0m \u001b[1;33m\u001b[0m\u001b[0m\n\u001b[0;32m   1171\u001b[0m     \"\"\"\n\u001b[1;32m-> 1172\u001b[1;33m     \u001b[1;32mreturn\u001b[0m \u001b[0m_wrapfunc\u001b[0m\u001b[1;33m(\u001b[0m\u001b[0ma\u001b[0m\u001b[1;33m,\u001b[0m \u001b[1;34m'argmin'\u001b[0m\u001b[1;33m,\u001b[0m \u001b[0maxis\u001b[0m\u001b[1;33m=\u001b[0m\u001b[0maxis\u001b[0m\u001b[1;33m,\u001b[0m \u001b[0mout\u001b[0m\u001b[1;33m=\u001b[0m\u001b[0mout\u001b[0m\u001b[1;33m)\u001b[0m\u001b[1;33m\u001b[0m\u001b[1;33m\u001b[0m\u001b[0m\n\u001b[0m\u001b[0;32m   1173\u001b[0m \u001b[1;33m\u001b[0m\u001b[0m\n\u001b[0;32m   1174\u001b[0m \u001b[1;33m\u001b[0m\u001b[0m\n",
      "\u001b[1;32m~\\Anaconda3\\lib\\site-packages\\numpy\\core\\fromnumeric.py\u001b[0m in \u001b[0;36m_wrapfunc\u001b[1;34m(obj, method, *args, **kwds)\u001b[0m\n\u001b[0;32m     54\u001b[0m \u001b[1;32mdef\u001b[0m \u001b[0m_wrapfunc\u001b[0m\u001b[1;33m(\u001b[0m\u001b[0mobj\u001b[0m\u001b[1;33m,\u001b[0m \u001b[0mmethod\u001b[0m\u001b[1;33m,\u001b[0m \u001b[1;33m*\u001b[0m\u001b[0margs\u001b[0m\u001b[1;33m,\u001b[0m \u001b[1;33m**\u001b[0m\u001b[0mkwds\u001b[0m\u001b[1;33m)\u001b[0m\u001b[1;33m:\u001b[0m\u001b[1;33m\u001b[0m\u001b[1;33m\u001b[0m\u001b[0m\n\u001b[0;32m     55\u001b[0m     \u001b[1;32mtry\u001b[0m\u001b[1;33m:\u001b[0m\u001b[1;33m\u001b[0m\u001b[1;33m\u001b[0m\u001b[0m\n\u001b[1;32m---> 56\u001b[1;33m         \u001b[1;32mreturn\u001b[0m \u001b[0mgetattr\u001b[0m\u001b[1;33m(\u001b[0m\u001b[0mobj\u001b[0m\u001b[1;33m,\u001b[0m \u001b[0mmethod\u001b[0m\u001b[1;33m)\u001b[0m\u001b[1;33m(\u001b[0m\u001b[1;33m*\u001b[0m\u001b[0margs\u001b[0m\u001b[1;33m,\u001b[0m \u001b[1;33m**\u001b[0m\u001b[0mkwds\u001b[0m\u001b[1;33m)\u001b[0m\u001b[1;33m\u001b[0m\u001b[1;33m\u001b[0m\u001b[0m\n\u001b[0m\u001b[0;32m     57\u001b[0m \u001b[1;33m\u001b[0m\u001b[0m\n\u001b[0;32m     58\u001b[0m     \u001b[1;31m# An AttributeError occurs if the object does not have\u001b[0m\u001b[1;33m\u001b[0m\u001b[1;33m\u001b[0m\u001b[1;33m\u001b[0m\u001b[0m\n",
      "\u001b[1;31mKeyboardInterrupt\u001b[0m: "
     ]
    }
   ],
   "source": [
    "a, b, c, _ = kmeans_classical(testx, 5)\n",
    "print(a[0])"
   ]
  },
  {
   "cell_type": "code",
   "execution_count": null,
   "metadata": {},
   "outputs": [],
   "source": [
    "plot_dataset_2D(a, b)"
   ]
  },
  {
   "cell_type": "code",
   "execution_count": null,
   "metadata": {},
   "outputs": [],
   "source": [
    "# measure accuary (AUC?)\n",
    "#import sklearn.metrics as metrics\n",
    "\n",
    "def accuracy(class_list, ground_truth):\n",
    "    diff = class_list - ground_truth\n",
    "    #print(diff)\n",
    "    zero_counter = 0\n",
    "    \n",
    "    for entry in diff:\n",
    "        if entry == 0:\n",
    "            zero_counter += 1\n",
    "    \n",
    "    return zero_counter/class_list.shape[0]\n",
    "\n",
    "#multiclass not supported\n",
    "#def AUC(class_list, ground_truth):\n",
    "#    return metrics.roc_auc_score(ground_truth, class_list)"
   ]
  },
  {
   "cell_type": "code",
   "execution_count": 33,
   "metadata": {},
   "outputs": [
    {
     "name": "stdout",
     "output_type": "stream",
     "text": [
      "starting size:  20\n",
      "avg time 0.0029938220977783203 avg vscore 0.7900588157387155\n",
      "starting size:  40\n",
      "avg time 0.007007439931233724 avg vscore 0.8087889655612722\n",
      "starting size:  60\n",
      "avg time 0.035160223642985024 avg vscore 0.8258221543792085\n",
      "starting size:  80\n",
      "avg time 0.033826589584350586 avg vscore 0.8756594526317946\n",
      "starting size:  100\n",
      "avg time 0.022942543029785156 avg vscore 0.816293206278779\n",
      "starting size:  120\n",
      "avg time 0.02594153086344401 avg vscore 0.8190257287960675\n",
      "starting size:  140\n",
      "avg time 0.04913139343261719 avg vscore 0.7936792782367025\n",
      "starting size:  160\n",
      "avg time 0.04791378974914551 avg vscore 0.8053343541725125\n",
      "starting size:  180\n",
      "avg time 0.062152465184529625 avg vscore 0.7260093051481018\n",
      "starting size:  200\n",
      "avg time 0.062153895696004234 avg vscore 0.8212082203173793\n"
     ]
    }
   ],
   "source": [
    "import sklearn.metrics as m\n",
    "\n",
    "# Trial 1: Changing Sample Size. 3 trials each\n",
    "\n",
    "samplesize = [20,40,60,80,100,120,140,160,180,200]\n",
    "\n",
    "for size in samplesize:\n",
    "    print(\"starting size: \", size)\n",
    "    times=0\n",
    "    vscore=0\n",
    "    for trial in range(3):\n",
    "        #print(\"trial: \", trial)\n",
    "        testx, testy = generate_fake_dataset(size, 2, 5, 0.15, (-0.7,0.7))\n",
    "        samples, newclass, newcentroids, timetaken = kmeans_classical(testx, 5)\n",
    "        #print(\"v score: \", m.v_measure_score(newclass, testy))\n",
    "        times += timetaken\n",
    "        vscore += m.v_measure_score(newclass, testy)\n",
    "    print(\"avg time\", times/3, \"avg vscore\", vscore/3)"
   ]
  },
  {
   "cell_type": "code",
   "execution_count": 53,
   "metadata": {},
   "outputs": [
    {
     "data": {
      "image/png": "[encoded data removed]",
      "text/plain": [
       "<Figure size 432x288 with 1 Axes>"
      ]
     },
     "metadata": {
      "needs_background": "light"
     },
     "output_type": "display_data"
    }
   ],
   "source": [
    "testx, testy = generate_fake_dataset(200, 2, 5, 0.05, (-0.7,0.7))\n",
    "samples, newclass, newcentroids, timetaken = kmeans_classical(testx, 5)\n",
    "plot_dataset_2D(samples, newclass)"
   ]
  },
  {
   "cell_type": "code",
   "execution_count": 55,
   "metadata": {},
   "outputs": [
    {
     "data": {
      "image/png": "[encoded data removed]",
      "text/plain": [
       "<Figure size 432x288 with 1 Axes>"
      ]
     },
     "metadata": {
      "needs_background": "light"
     },
     "output_type": "display_data"
    }
   ],
   "source": [
    "samples, newclass, newcentroids, timetaken = kmeans_quantum(testx, 5)\n",
    "plot_dataset_2D(samples, newclass)"
   ]
  },
  {
   "cell_type": "code",
   "execution_count": 56,
   "metadata": {},
   "outputs": [
    {
     "data": {
      "image/png": "[encoded data removed]",
      "text/plain": [
       "<Figure size 432x288 with 1 Axes>"
      ]
     },
     "metadata": {
      "needs_background": "light"
     },
     "output_type": "display_data"
    }
   ],
   "source": [
    "testx, testy = generate_fake_dataset(200, 2, 5, 0.15, (-0.7,0.7))\n",
    "samples, newclass, newcentroids, timetaken = kmeans_classical(testx, 5)\n",
    "plot_dataset_2D(samples, newclass)"
   ]
  },
  {
   "cell_type": "code",
   "execution_count": 58,
   "metadata": {},
   "outputs": [
    {
     "data": {
      "image/png": "[encoded data removed]",
      "text/plain": [
       "<Figure size 432x288 with 1 Axes>"
      ]
     },
     "metadata": {
      "needs_background": "light"
     },
     "output_type": "display_data"
    }
   ],
   "source": [
    "samples, newclass, newcentroids, timetaken = kmeans_quantum(testx, 5)\n",
    "plot_dataset_2D(samples, newclass)"
   ]
  },
  {
   "cell_type": "code",
   "execution_count": 27,
   "metadata": {},
   "outputs": [
    {
     "name": "stdout",
     "output_type": "stream",
     "text": [
      "starting size:  2\n",
      "trial:  0\n"
     ]
    },
    {
     "ename": "KeyboardInterrupt",
     "evalue": "",
     "output_type": "error",
     "traceback": [
      "\u001b[1;31m---------------------------------------------------------------------------\u001b[0m",
      "\u001b[1;31mKeyboardInterrupt\u001b[0m                         Traceback (most recent call last)",
      "\u001b[1;32m<ipython-input-27-ab296fbd57dc>\u001b[0m in \u001b[0;36m<module>\u001b[1;34m\u001b[0m\n\u001b[0;32m      9\u001b[0m         \u001b[0mprint\u001b[0m\u001b[1;33m(\u001b[0m\u001b[1;34m\"trial: \"\u001b[0m\u001b[1;33m,\u001b[0m \u001b[0mtrial\u001b[0m\u001b[1;33m)\u001b[0m\u001b[1;33m\u001b[0m\u001b[1;33m\u001b[0m\u001b[0m\n\u001b[0;32m     10\u001b[0m         \u001b[0mtestx\u001b[0m\u001b[1;33m,\u001b[0m \u001b[0mtesty\u001b[0m \u001b[1;33m=\u001b[0m \u001b[0mgenerate_fake_dataset\u001b[0m\u001b[1;33m(\u001b[0m\u001b[1;36m10000\u001b[0m\u001b[1;33m,\u001b[0m \u001b[0msize\u001b[0m\u001b[1;33m,\u001b[0m \u001b[1;36m5\u001b[0m\u001b[1;33m,\u001b[0m \u001b[1;36m0.05\u001b[0m\u001b[1;33m,\u001b[0m \u001b[1;33m(\u001b[0m\u001b[1;36m0.2\u001b[0m\u001b[1;33m,\u001b[0m\u001b[1;36m0.8\u001b[0m\u001b[1;33m)\u001b[0m\u001b[1;33m)\u001b[0m\u001b[1;33m\u001b[0m\u001b[1;33m\u001b[0m\u001b[0m\n\u001b[1;32m---> 11\u001b[1;33m         \u001b[0msamples\u001b[0m\u001b[1;33m,\u001b[0m \u001b[0mnewclass\u001b[0m\u001b[1;33m,\u001b[0m \u001b[0mnewcentroids\u001b[0m \u001b[1;33m=\u001b[0m \u001b[0mkmeans_classical\u001b[0m\u001b[1;33m(\u001b[0m\u001b[0mtestx\u001b[0m\u001b[1;33m,\u001b[0m \u001b[1;36m5\u001b[0m\u001b[1;33m)\u001b[0m\u001b[1;33m\u001b[0m\u001b[1;33m\u001b[0m\u001b[0m\n\u001b[0m\u001b[0;32m     12\u001b[0m         \u001b[0mprint\u001b[0m\u001b[1;33m(\u001b[0m\u001b[1;34m\"v score: \"\u001b[0m\u001b[1;33m,\u001b[0m \u001b[0msklearn\u001b[0m\u001b[1;33m.\u001b[0m\u001b[0mmetrics\u001b[0m\u001b[1;33m.\u001b[0m\u001b[0mv_measure_score\u001b[0m\u001b[1;33m(\u001b[0m\u001b[0mnewclass\u001b[0m\u001b[1;33m,\u001b[0m \u001b[0mtesty\u001b[0m\u001b[1;33m)\u001b[0m\u001b[1;33m)\u001b[0m\u001b[1;33m\u001b[0m\u001b[1;33m\u001b[0m\u001b[0m\n",
      "\u001b[1;32m<ipython-input-25-c5d62ea90740>\u001b[0m in \u001b[0;36mkmeans_classical\u001b[1;34m(samples, class_num)\u001b[0m\n\u001b[0;32m     47\u001b[0m         \u001b[0mcounter\u001b[0m \u001b[1;33m+=\u001b[0m\u001b[1;36m1\u001b[0m\u001b[1;33m\u001b[0m\u001b[1;33m\u001b[0m\u001b[0m\n\u001b[0;32m     48\u001b[0m         \u001b[1;31m#print(counter)\u001b[0m\u001b[1;33m\u001b[0m\u001b[1;33m\u001b[0m\u001b[1;33m\u001b[0m\u001b[0m\n\u001b[1;32m---> 49\u001b[1;33m         \u001b[0mnew_class\u001b[0m \u001b[1;33m=\u001b[0m \u001b[0mnearest_neighbor_classical\u001b[0m\u001b[1;33m(\u001b[0m\u001b[0msamples\u001b[0m\u001b[1;33m,\u001b[0m \u001b[0mold_centroid_list\u001b[0m\u001b[1;33m)\u001b[0m\u001b[1;33m\u001b[0m\u001b[1;33m\u001b[0m\u001b[0m\n\u001b[0m\u001b[0;32m     50\u001b[0m         \u001b[0mnew_centroid_list\u001b[0m \u001b[1;33m=\u001b[0m \u001b[0mcentroid_update\u001b[0m\u001b[1;33m(\u001b[0m\u001b[0msamples\u001b[0m\u001b[1;33m,\u001b[0m \u001b[0mnew_class\u001b[0m\u001b[1;33m,\u001b[0m \u001b[0mold_centroid_list\u001b[0m\u001b[1;33m)\u001b[0m\u001b[1;33m\u001b[0m\u001b[1;33m\u001b[0m\u001b[0m\n\u001b[0;32m     51\u001b[0m         \u001b[1;31m#print(np.array(old_centroid_list))\u001b[0m\u001b[1;33m\u001b[0m\u001b[1;33m\u001b[0m\u001b[1;33m\u001b[0m\u001b[0m\n",
      "\u001b[1;32m<ipython-input-25-c5d62ea90740>\u001b[0m in \u001b[0;36mnearest_neighbor_classical\u001b[1;34m(points, centroid_list)\u001b[0m\n\u001b[0;32m      5\u001b[0m \u001b[1;33m\u001b[0m\u001b[0m\n\u001b[0;32m      6\u001b[0m \u001b[1;32mdef\u001b[0m \u001b[0mnearest_neighbor_classical\u001b[0m\u001b[1;33m(\u001b[0m\u001b[0mpoints\u001b[0m\u001b[1;33m,\u001b[0m \u001b[0mcentroid_list\u001b[0m\u001b[1;33m)\u001b[0m\u001b[1;33m:\u001b[0m\u001b[1;33m\u001b[0m\u001b[1;33m\u001b[0m\u001b[0m\n\u001b[1;32m----> 7\u001b[1;33m     \u001b[0mclass_array\u001b[0m \u001b[1;33m=\u001b[0m \u001b[0mnp\u001b[0m\u001b[1;33m.\u001b[0m\u001b[0mzeros\u001b[0m\u001b[1;33m(\u001b[0m\u001b[0mpoints\u001b[0m\u001b[1;33m.\u001b[0m\u001b[0mshape\u001b[0m\u001b[1;33m[\u001b[0m\u001b[1;36m0\u001b[0m\u001b[1;33m]\u001b[0m\u001b[1;33m)\u001b[0m\u001b[1;33m\u001b[0m\u001b[1;33m\u001b[0m\u001b[0m\n\u001b[0m\u001b[0;32m      8\u001b[0m     \u001b[1;31m# assign each point to a class\u001b[0m\u001b[1;33m\u001b[0m\u001b[1;33m\u001b[0m\u001b[1;33m\u001b[0m\u001b[0m\n\u001b[0;32m      9\u001b[0m     \u001b[1;32mfor\u001b[0m \u001b[0mi\u001b[0m \u001b[1;32min\u001b[0m \u001b[0mrange\u001b[0m\u001b[1;33m(\u001b[0m\u001b[0mpoints\u001b[0m\u001b[1;33m.\u001b[0m\u001b[0mshape\u001b[0m\u001b[1;33m[\u001b[0m\u001b[1;36m0\u001b[0m\u001b[1;33m]\u001b[0m\u001b[1;33m)\u001b[0m\u001b[1;33m:\u001b[0m\u001b[1;33m\u001b[0m\u001b[1;33m\u001b[0m\u001b[0m\n",
      "\u001b[1;31mKeyboardInterrupt\u001b[0m: "
     ]
    }
   ],
   "source": [
    "import sklearn\n",
    "\n",
    "# Trial 2: Changing Feature Size. 3 trials each\n",
    "\n",
    "featuresize = [2, 4, 6, 8, 10, 12, 14, 16, 18, 20]\n",
    "for size in featuresize:\n",
    "    print(\"starting size: \", size)\n",
    "    for trial in range(3):\n",
    "        print(\"trial: \", trial)\n",
    "        testx, testy = generate_fake_dataset(10000, size, 5, 0.05, (0.2,0.8))\n",
    "        samples, newclass, newcentroids = kmeans_classical(testx, 5)\n",
    "        print(\"v score: \", sklearn.metrics.v_measure_score(newclass, testy))"
   ]
  },
  {
   "cell_type": "code",
   "execution_count": 40,
   "metadata": {},
   "outputs": [],
   "source": [
    "# import math lib\n",
    "from math import pi\n",
    "\n",
    "# import Qiskit\n",
    "from qiskit import Aer, IBMQ, execute\n",
    "from qiskit import QuantumCircuit, ClassicalRegister, QuantumRegister\n",
    "\n",
    "# import basic plot tools\n",
    "from qiskit.tools.visualization import plot_histogram\n",
    "\n",
    "# To use local qasm simulator\n",
    "backend = Aer.get_backend('qasm_simulator')\n",
    "\n",
    "def get_theta(d):\n",
    "    x = d[0]\n",
    "    y = d[1]\n",
    "    \n",
    "    theta = 2*math.acos((x+y)/2.0)\n",
    "    #theta = math.atan2(y,x)\n",
    "    return theta\n",
    "\n",
    "def get_Distance(x,y):\n",
    "    theta_1 = get_theta(x)\n",
    "    theta_2 = get_theta(y) \n",
    "    #theta_diff = abs(theta_1-theta_2)   \n",
    "    #start_time = time.time()\n",
    "    # create Quantum Register called \"qr\" with 3 qubits\n",
    "    qr = QuantumRegister(2, name=\"qr\")\n",
    "    # create Classical Register called \"cr\" with 5 bits\n",
    "    cr = ClassicalRegister(1, name=\"cr\")\n",
    "\n",
    "    # Creating Quantum Circuit called \"qc\" involving your Quantum Register \"qr\"\n",
    "    # and your Classical Register \"cr\"\n",
    "    qc = QuantumCircuit(qr, cr, name=\"k_means\")\n",
    "    \n",
    "    qc.h(qr[0])\n",
    "    qc.cnot(qr[0], qr[1])\n",
    "    qc.ry(-theta_1, qr[1])\n",
    "    qc.cnot(qr[0], qr[1])\n",
    "    qc.x(qr[0])\n",
    "    qc.ry(theta_1, qr[1])\n",
    "    qc.cnot(qr[0], qr[1])\n",
    "    qc.ry(-theta_2, qr[1])\n",
    "    qc.cnot(qr[0], qr[1])\n",
    "    qc.ry(theta_2, qr[1])\n",
    "    qc.h(qr[0])\n",
    "    qc.measure(qr[0], cr[0])\n",
    "\n",
    "    #print('----before run----')\n",
    "    job = execute(qc,backend=backend, shots=4096)\n",
    "    #print('----after run----')\n",
    "    result = job.result()\n",
    "    #data = result.get_data()['counts']\n",
    "    data = result.get_counts(qc)\n",
    "    #end_time = time.time()\n",
    "    #print(\"1 epoch time: \", end_time-start_time)\n",
    "    #print(data)\n",
    "    \n",
    "    if len(data)==1:\n",
    "        return 0.0\n",
    "    else:\n",
    "        return data['1']\n",
    "    \n",
    "def get_Distances(x,y):    \n",
    "    theta_1 = get_theta(x)\n",
    "    theta_2 = get_theta(y)\n",
    "    theta_diff = abs(theta_1 - theta_2)\n",
    "\n",
    "    qr = QuantumRegister(2, name=\"qr\")\n",
    "    # create Classical Register called \"cr\" with 5 bits\n",
    "    cr = ClassicalRegister(1, name=\"cr\")\n",
    "\n",
    "    # Creating Quantum Circuit called \"qc\" involving your Quantum Register \"qr\"\n",
    "    # and your Classical Register \"cr\"\n",
    "    qc = QuantumCircuit(qr, cr, name=\"k_means\")\n",
    "\n",
    "    qc.h(qr[0])\n",
    "    #qc.h(qr[1])\n",
    "    #qc.h(qr[2])\n",
    "    #qc.u3(theta_1, pi, pi, qr[1])\n",
    "    #qc.u3(theta_2, pi, pi, qr[2])\n",
    "    qc.cnot(qr[0], qr[1])\n",
    "    qc.ry(-theta_diff, qr[1])\n",
    "    qc.cnot(qr[0], qr[1])\n",
    "    qc.ry(theta_diff, qr[1])\n",
    "    #qc.cswap(qr[0], qr[1], qr[2])\n",
    "    qc.h(qr[0])\n",
    "    qc.measure(qr[0], cr[0])\n",
    "\n",
    "    #qc.reset(qr)\n",
    "    #qc.draw(output='mpl')\n",
    "\n",
    "    # eseguo il circuito costruito sulla coppia I,J\n",
    "    job_exp = execute(qc, backend=backend, shots=2048) \n",
    "    result = job_exp.result()\n",
    "    # calculate the ratio between the 0 and tha one result in measure registry\n",
    "    v1=result.get_counts(qc)['000']\n",
    "    if '010' in result.get_counts(qc):\n",
    "        v2=result.get_counts(qc)['010']\n",
    "    else:\n",
    "        v2=0\n",
    "    prob=v2/(v1+v2) # Probability of obtaining 1 that is \"quantum distance\"\n",
    "    return prob\n",
    "    \n",
    "def get_data(n,k,std):\n",
    "    data = make_blobs(n_samples=n, n_features=2, centers=k, cluster_std=std, random_state=100)\n",
    "    points = data[0]\n",
    "    centers = data[1]\n",
    "    \n",
    "    return points,centers\n",
    "\n",
    "def draw_plot(points,centers,label=True):\n",
    "    if label==False:\n",
    "        plt.scatter(points[:,0], points[:,1])\n",
    "    else:\n",
    "        plt.scatter(points[:,0], points[:,1], c=centers, cmap='viridis')\n",
    "    plt.xlim(0,1)\n",
    "    plt.ylim(0,1)\n",
    "    plt.show()\n",
    "    \n",
    "def plot_centroids(centers):\n",
    "    plt.scatter(centers[:,0], centers[:,1])\n",
    "    plt.xlim(0,1)\n",
    "    plt.ylim(0,1)\n",
    "    plt.show()\n",
    "    \n",
    "def initialize_centers(points,k):\n",
    "    return points[np.random.randint(points.shape[0],size=k),:]\n",
    "\n",
    "def get_distance(p1, p2):\n",
    "    return np.sqrt(np.sum((p1-p2)*(p1-p2)))\n",
    "\n",
    "def find_nearest_neighbour(points,centroids):\n",
    "    \n",
    "    n = len(points)\n",
    "    k = centroids.shape[0]\n",
    "    centers = np.zeros(n)    \n",
    "    for i in range(n):\n",
    "        min_dis = 10000\n",
    "        ind = 0\n",
    "        for j in range(k):\n",
    "            \n",
    "            temp_dis = get_Distance(points[i,:],centroids[j,:])\n",
    "            \n",
    "            if temp_dis < min_dis:\n",
    "                min_dis = temp_dis\n",
    "                ind = j\n",
    "        centers[i] = ind\n",
    "    \n",
    "    return centers\n",
    "\n",
    "def nearest_neighbor_quantum(points, centroid_list):\n",
    "    class_array = np.zeros(points.shape[0])\n",
    "    # assign each point to a class\n",
    "    for i in range(points.shape[0]):\n",
    "        distance_array = np.array([get_Distance(points[i], centroid) for centroid in centroid_list])\n",
    "        #print(distance_array)\n",
    "        min_index = np.argmin(distance_array)\n",
    "        class_array[i] = min_index \n",
    "    return class_array\n",
    "\n",
    "def find_centroids(points,centers):\n",
    "    n = len(points)\n",
    "    k = int(np.max(centers))+1\n",
    "   \n",
    "    centroids = np.zeros([k,2])\n",
    "    \n",
    "    for i in range(k):\n",
    "        #print(points[centers==i])\n",
    "        centroids[i,:] = np.average(points[centers==i])\n",
    "        \n",
    "    return centroids\n",
    "\n",
    "def centroid_update(points, class_array, centroid_list):\n",
    "    temp_centroid_list = deepcopy(centroid_list)\n",
    "    for i in range(centroid_list.shape[0]):\n",
    "        # probably need to fix this\n",
    "        #print(points.shape)\n",
    "        #print(temp_centroid_list[i])\n",
    "        class_sum = np.zeros(points.shape[1])\n",
    "        class_num = 0\n",
    "        for j in range(points.shape[0]):\n",
    "            if class_array[j] == i:\n",
    "                class_sum += points[j]\n",
    "                class_num += 1\n",
    "        if class_num == 0:\n",
    "            temp_centroid_list[i] = 0\n",
    "        else:\n",
    "            temp_centroid_list[i] = np.divide(class_sum, class_num)\n",
    "        #print(\"centroid\", temp_centroid_list[i])\n",
    "        #if class_num ==0:\n",
    "        #    print(temp_centroid_list[i])\n",
    "    return temp_centroid_list\n",
    "\n",
    "def preprocess(points):\n",
    "    n = len(points)\n",
    "    x = 30.0*np.sqrt(2)\n",
    "    for i in range(n):\n",
    "        points[i,:]+=15\n",
    "        points[i,:]/=x\n",
    "    \n",
    "    return points\n",
    "\n",
    "def kmeans_quantum(samples, class_num):\n",
    "    # choose 6 random samples to be the centroids\n",
    "    #samples = preprocess(samples)\n",
    "    indices = random.sample(range(samples.shape[0]), class_num)\n",
    "    centroid_list = np.array([samples[i] for i in indices])\n",
    "    #print(centroid_list)\n",
    "    \n",
    "    #old_class = np.zeros(samples.shape[0])\n",
    "    stop_flag = False\n",
    "    old_centroid_list = centroid_list\n",
    "    start_time = time.time()\n",
    "    counter = 0\n",
    "    #print('old', old_centroid_list)\n",
    "    \n",
    "    # assign classes based on current centroids\n",
    "    while not stop_flag:\n",
    "        counter +=1\n",
    "        #print(counter)\n",
    "        new_class = nearest_neighbor_quantum(samples, old_centroid_list)\n",
    "        new_centroid_list = centroid_update(samples, new_class, old_centroid_list)\n",
    "        #print(np.array(old_centroid_list))\n",
    "        #print(np.array(new_centroid_list))\n",
    "        #print(new_class)\n",
    "        if np.sum(np.array(new_centroid_list-old_centroid_list)) < 1e-07:\n",
    "            stop_flag = True\n",
    "            stop_time = time.time()\n",
    "        else:\n",
    "            #print(\"else reached\")\n",
    "            old_centroid_list = new_centroid_list\n",
    "            #old_class = new_class\n",
    "    timetaken = stop_time - start_time\n",
    "    #print(\"time taken: \", stop_time - start_time, \" seconds\")\n",
    "    return samples, new_class, new_centroid_list, timetaken"
   ]
  },
  {
   "cell_type": "code",
   "execution_count": 41,
   "metadata": {},
   "outputs": [
    {
     "name": "stdout",
     "output_type": "stream",
     "text": [
      "starting size:  20\n",
      "avg time 1.6976635456085205 avg vscore 0.7865975064338908\n",
      "starting size:  40\n",
      "avg time 4.1670552889506025 avg vscore 0.7006449413855497\n",
      "starting size:  60\n",
      "avg time 6.45301349957784 avg vscore 0.7952820944699739\n",
      "starting size:  80\n",
      "avg time 5.61054007212321 avg vscore 0.7747610639469285\n",
      "starting size:  100\n",
      "avg time 14.867709477742514 avg vscore 0.8182867877999898\n",
      "starting size:  120\n",
      "avg time 15.810306151707968 avg vscore 0.7868288166982733\n",
      "starting size:  140\n",
      "avg time 25.12029441197713 avg vscore 0.802975437118191\n",
      "starting size:  160\n",
      "avg time 43.60994950930277 avg vscore 0.8316910658495683\n",
      "starting size:  180\n",
      "avg time 19.375191688537598 avg vscore 0.7628565327255897\n",
      "starting size:  200\n",
      "avg time 14.123887141545614 avg vscore 0.7938562338000829\n"
     ]
    }
   ],
   "source": [
    "import sklearn.metrics as m\n",
    "\n",
    "# Trial 1: Changing Sample Size. 3 trials each\n",
    "\n",
    "samplesize = [20,40,60,80,100,120,140,160,180,200]\n",
    "\n",
    "for size in samplesize:\n",
    "    print(\"starting size: \", size)\n",
    "    times=0\n",
    "    vscore=0\n",
    "    for trial in range(3):\n",
    "        #print(\"trial: \", trial)\n",
    "        testx, testy = generate_fake_dataset(size, 2, 5, 0.05, (-0.7,0.7))\n",
    "        samples, newclass, newcentroids, timetaken = kmeans_quantum(testx, 5)\n",
    "        #print(\"v score: \", m.v_measure_score(newclass, testy))\n",
    "        times += timetaken\n",
    "        vscore += m.v_measure_score(newclass, testy)\n",
    "    print(\"avg time\", times/3, \"avg vscore\", vscore/3)"
   ]
  },
  {
   "cell_type": "code",
   "execution_count": 42,
   "metadata": {},
   "outputs": [
    {
     "name": "stdout",
     "output_type": "stream",
     "text": [
      "starting size:  20\n",
      "avg time 2.7925546964009604 avg vscore 0.8115461539902554\n",
      "starting size:  40\n",
      "avg time 4.191582282384236 avg vscore 0.62594177222187\n",
      "starting size:  60\n",
      "avg time 3.102759917577108 avg vscore 0.6338233078856822\n",
      "starting size:  80\n",
      "avg time 3.984814723332723 avg vscore 0.5997307222231285\n",
      "starting size:  100\n",
      "avg time 13.960313558578491 avg vscore 0.5913839074311218\n",
      "starting size:  120\n",
      "avg time 10.31534512837728 avg vscore 0.5954633107105317\n",
      "starting size:  140\n",
      "avg time 14.381454229354858 avg vscore 0.5854534885843422\n",
      "starting size:  160\n",
      "avg time 8.252721150716146 avg vscore 0.5080315259553511\n",
      "starting size:  180\n",
      "avg time 108.1432336171468 avg vscore 0.5620745352258188\n",
      "starting size:  200\n",
      "avg time 32.050187269846596 avg vscore 0.637179794312626\n"
     ]
    }
   ],
   "source": [
    "import sklearn.metrics as m\n",
    "\n",
    "# Trial 1: Changing Sample Size. 3 trials each\n",
    "\n",
    "samplesize = [20,40,60,80,100,120,140,160,180,200]\n",
    "\n",
    "for size in samplesize:\n",
    "    print(\"starting size: \", size)\n",
    "    times=0\n",
    "    vscore=0\n",
    "    for trial in range(3):\n",
    "        #print(\"trial: \", trial)\n",
    "        testx, testy = generate_fake_dataset(size, 2, 5, 0.15, (-0.7,0.7))\n",
    "        samples, newclass, newcentroids, timetaken = kmeans_quantum(testx, 5)\n",
    "        #print(\"v score: \", m.v_measure_score(newclass, testy))\n",
    "        times += timetaken\n",
    "        vscore += m.v_measure_score(newclass, testy)\n",
    "    print(\"avg time\", times/3, \"avg vscore\", vscore/3)"
   ]
  },
  {
   "cell_type": "code",
   "execution_count": 43,
   "metadata": {},
   "outputs": [
    {
     "name": "stdout",
     "output_type": "stream",
     "text": [
      "avg time 9.57880171140035 avg vscore 0.48455859121314776\n"
     ]
    }
   ],
   "source": [
    "times=0\n",
    "vscore=0\n",
    "for trial in range(3):\n",
    "    #print(\"trial: \", trial)\n",
    "    testx, testy = generate_fake_dataset(180, 2, 5, 0.15, (-0.7,0.7))\n",
    "    samples, newclass, newcentroids, timetaken = kmeans_quantum(testx, 5)\n",
    "    #print(\"v score: \", m.v_measure_score(newclass, testy))\n",
    "    times += timetaken\n",
    "    vscore += m.v_measure_score(newclass, testy)\n",
    "print(\"avg time\", times/3, \"avg vscore\", vscore/3)"
   ]
  },
  {
   "cell_type": "code",
   "execution_count": null,
   "metadata": {},
   "outputs": [],
   "source": [
    "testx, testy = generate_fake_dataset(200, 2, 5, 0.1, (-0.7,0.7))\n",
    "plot_dataset_2D(testx, testy)"
   ]
  },
  {
   "cell_type": "code",
   "execution_count": null,
   "metadata": {
    "scrolled": true
   },
   "outputs": [],
   "source": [
    "a, b, c = kmeans_classical(testx, 5)\n",
    "print(a[0])\n",
    "print(\"v score: \", sklearn.metrics.v_measure_score(b, testy))\n",
    "plot_dataset_2D(a, b)"
   ]
  },
  {
   "cell_type": "code",
   "execution_count": null,
   "metadata": {},
   "outputs": [],
   "source": [
    "a, b, c = kmeans_quantum(testx, 5)\n",
    "print(a[0])\n",
    "print(\"v score: \", sklearn.metrics.v_measure_score(b, testy))\n",
    "plot_dataset_2D(a, b)\n",
    "\n",
    "print(b, c)"
   ]
  },
  {
   "cell_type": "code",
   "execution_count": null,
   "metadata": {},
   "outputs": [],
   "source": [
    "testx, testy = generate_fake_dataset(2000, 2, 5, 0.05, (0.2,0.8))\n",
    "plot_dataset_2D(testx, testy)"
   ]
  },
  {
   "cell_type": "code",
   "execution_count": null,
   "metadata": {},
   "outputs": [],
   "source": [
    "a, b, c = kmeans_quantum(testx, 5)\n",
    "print(a[0])\n",
    "print(\"v score: \", sklearn.metrics.v_measure_score(b, testy))\n",
    "plot_dataset_2D(a, b)"
   ]
  },
  {
   "cell_type": "code",
   "execution_count": null,
   "metadata": {},
   "outputs": [],
   "source": [
    "qr = QuantumRegister(2, name=\"qr\")\n",
    "# create Classical Register called \"cr\" with 5 bits\n",
    "cr = ClassicalRegister(1, name=\"cr\")\n",
    "\n",
    "# Creating Quantum Circuit called \"qc\" involving your Quantum Register \"qr\"\n",
    "# and your Classical Register \"cr\"\n",
    "qc = QuantumCircuit(qr, cr, name=\"k_means\")\n",
    "\n",
    "#qc.h(qr[1])\n",
    "#qc.h(qr[2])\n",
    "#qc.u3(theta_1, pi, pi, qr[1])\n",
    "#qc.u3(theta_2, pi, pi, qr[2])\n",
    "qc.h(qr[0])\n",
    "qc.cnot(qr[0], qr[1])\n",
    "qc.ry(-.1, qr[1])\n",
    "qc.cnot(qr[0], qr[1])\n",
    "qc.x(qr[0])\n",
    "qc.ry(.1, qr[1])\n",
    "qc.cnot(0, qr[1])\n",
    "qc.ry(-.2, qr[1])\n",
    "qc.cnot(qr[0], qr[1])\n",
    "qc.ry(.2, qr[1])\n",
    "qc.h(qr[0])\n",
    "qc.measure(qr[0], cr[0])\n",
    "#qc.cswap(qr[0], qr[1], qr[2])\n",
    "\n",
    "\n",
    "#qc.reset(qr)\n",
    "qc.draw(output='mpl')"
   ]
  },
  {
   "cell_type": "code",
   "execution_count": null,
   "metadata": {},
   "outputs": [],
   "source": []
  },
  {
   "cell_type": "code",
   "execution_count": null,
   "metadata": {},
   "outputs": [],
   "source": []
  },
  {
   "cell_type": "code",
   "execution_count": null,
   "metadata": {},
   "outputs": [],
   "source": []
  },
  {
   "cell_type": "code",
   "execution_count": null,
   "metadata": {},
   "outputs": [],
   "source": []
  },
  {
   "cell_type": "code",
   "execution_count": null,
   "metadata": {},
   "outputs": [],
   "source": []
  },
  {
   "cell_type": "code",
   "execution_count": null,
   "metadata": {},
   "outputs": [],
   "source": []
  },
  {
   "cell_type": "code",
   "execution_count": null,
   "metadata": {},
   "outputs": [],
   "source": []
  },
  {
   "cell_type": "code",
   "execution_count": null,
   "metadata": {},
   "outputs": [],
   "source": []
  },
  {
   "cell_type": "code",
   "execution_count": null,
   "metadata": {},
   "outputs": [],
   "source": []
  },
  {
   "cell_type": "code",
   "execution_count": null,
   "metadata": {},
   "outputs": [],
   "source": []
  },
  {
   "cell_type": "code",
   "execution_count": null,
   "metadata": {},
   "outputs": [],
   "source": []
  },
  {
   "cell_type": "code",
   "execution_count": null,
   "metadata": {},
   "outputs": [],
   "source": []
  },
  {
   "cell_type": "code",
   "execution_count": null,
   "metadata": {},
   "outputs": [],
   "source": []
  },
  {
   "cell_type": "code",
   "execution_count": null,
   "metadata": {},
   "outputs": [],
   "source": []
  },
  {
   "cell_type": "code",
   "execution_count": null,
   "metadata": {},
   "outputs": [],
   "source": []
  },
  {
   "cell_type": "code",
   "execution_count": null,
   "metadata": {},
   "outputs": [],
   "source": []
  },
  {
   "cell_type": "code",
   "execution_count": null,
   "metadata": {},
   "outputs": [],
   "source": []
  },
  {
   "cell_type": "code",
   "execution_count": null,
   "metadata": {},
   "outputs": [],
   "source": []
  },
  {
   "cell_type": "code",
   "execution_count": null,
   "metadata": {},
   "outputs": [],
   "source": []
  },
  {
   "cell_type": "code",
   "execution_count": null,
   "metadata": {},
   "outputs": [],
   "source": []
  },
  {
   "cell_type": "code",
   "execution_count": null,
   "metadata": {},
   "outputs": [],
   "source": []
  },
  {
   "cell_type": "code",
   "execution_count": null,
   "metadata": {},
   "outputs": [],
   "source": []
  },
  {
   "cell_type": "code",
   "execution_count": null,
   "metadata": {},
   "outputs": [],
   "source": [
    "import sklearn\n",
    "\n",
    "#print(accuracy(b,testy))\n",
    "#print(AUC(b, testy))\n",
    "\n",
    "#print(metrics.adjusted_rand_score(b, testy))\n",
    "\n",
    "\n",
    "#print(metrics.cluster.completeness_score(b, testy))\n",
    "\n",
    "# go with v_measure_score\n",
    "print(sklearn.metrics.v_measure_score(b, testy))"
   ]
  },
  {
   "cell_type": "code",
   "execution_count": null,
   "metadata": {},
   "outputs": [],
   "source": [
    "# quantum k means\n",
    "from qiskit import QuantumCircuit, QuantumRegister, ClassicalRegister, Aer, execute\n",
    "from qiskit.tools.visualization import plot_histogram\n",
    "from qutip import *\n",
    "from IPython.display import Image\n",
    "%matplotlib inline\n",
    "\n",
    "backend = Aer.get_backend('qasm_simulator')"
   ]
  },
  {
   "cell_type": "code",
   "execution_count": null,
   "metadata": {},
   "outputs": [],
   "source": [
    "# might need to preprocess points to fit between 0.0 and 1.0 spectrum\n",
    "\n",
    "def quantum_circuit(quantum_bit_num, classical_bit_num, x, y):\n",
    "    qr = QuantumRegister(quantum_bit_num)\n",
    "    cr = ClassicalRegister(classical_bit_num)\n",
    "    \n",
    "    qc = QuantumCircuit(qr, cr)\n",
    "    \n",
    "    qc.h(qr[0])\n",
    "    qc.h(qr[1])\n",
    "    qc.h(qr[2])\n",
    "    #print(x[0], x[1])\n",
    "    qc.u3(2*math.acos((x[0]+x[1])/2.0), math.pi, math.pi, qr[1])\n",
    "    qc.u3(2*math.acos((y[0]+y[1])/2.0), math.pi, math.pi, qr[2])\n",
    "    qc.cswap(qr[0], qr[1], qr[2])\n",
    "    qc.h(qr[0])\n",
    "    qc.measure(qr[0], cr[0])\n",
    "    qc.reset(qr)\n",
    "    \n",
    "    qc.draw(output='mpl')\n",
    "    \n",
    "    job = execute(qc, backend=backend, shots=1024)\n",
    "    result = job.result()\n",
    "    plot_histogram(result.get_counts(qc))\n",
    "    \n",
    "    print()\n",
    "    \n",
    "    #if len(data)==1:\n",
    "    #    return 0.0\n",
    "    #else:\n",
    "    #    return data['001']/1024.0\n",
    "    return qc, result"
   ]
  },
  {
   "cell_type": "code",
   "execution_count": null,
   "metadata": {},
   "outputs": [],
   "source": [
    "qc, result = quantum_circuit(3,3, a[2], c[1])"
   ]
  },
  {
   "cell_type": "code",
   "execution_count": null,
   "metadata": {},
   "outputs": [],
   "source": [
    "qc.draw(output='mpl')"
   ]
  },
  {
   "cell_type": "code",
   "execution_count": null,
   "metadata": {},
   "outputs": [],
   "source": [
    "print(result.get_counts(qc))\n",
    "plot_histogram(result.get_counts(qc))"
   ]
  },
  {
   "cell_type": "code",
   "execution_count": null,
   "metadata": {},
   "outputs": [],
   "source": [
    "def nearest_neighbor_classical(points, centroid_list):\n",
    "    class_array = np.zeros(points.shape[0])\n",
    "    # assign each point to a class\n",
    "    for i in range(points.shape[0]):\n",
    "        min_index = np.argmin([distance(points[i], centroid) for centroid in centroid_list])\n",
    "        class_array[i] = min_index \n",
    "    return class_array\n",
    "\n",
    "def kmeans_quantum(samples, class_num):\n",
    "    # choose 6 random samples to be the centroids\n",
    "    indices = np.random.randint(samples.shape[0], size=class_num)\n",
    "    centroid_list = np.array([samples[i] for i in indices])\n",
    "    #print(centroid_list)\n",
    "    \n",
    "    #old_class = np.zeros(samples.shape[0])\n",
    "    stop_flag = False\n",
    "    old_centroid_list = centroid_list\n",
    "    start_time = time.time()\n",
    "    counter = 0\n",
    "    #print('old', old_centroid_list)\n",
    "    \n",
    "    # assign classes based on current centroids\n",
    "    while not stop_flag:\n",
    "        counter +=1\n",
    "        #print(counter)\n",
    "        new_class = nearest_neighbor_quantum(samples, old_centroid_list)\n",
    "        new_centroid_list = centroid_update(samples, new_class, old_centroid_list)\n",
    "        #print(np.array(old_centroid_list))\n",
    "        #print(np.array(new_centroid_list))\n",
    "        #print(new_class)\n",
    "        if np.sum(np.array(new_centroid_list-old_centroid_list)) == 0:\n",
    "            stop_flag = True\n",
    "            stop_time = time.time()\n",
    "        else:\n",
    "            #print(\"else reached\")\n",
    "            old_centroid_list = new_centroid_list\n",
    "            #old_class = new_class\n",
    "    print(\"time taken: \", stop_time - start_time, \" seconds\")\n",
    "    return samples, new_class, new_centroid_list\n",
    "    "
   ]
  },
  {
   "cell_type": "code",
   "execution_count": null,
   "metadata": {},
   "outputs": [],
   "source": [
    "# Implementing K-Means\n",
    "from sklearn.cluster import KMeans\n",
    "from sklearn.model_selection import RandomizedSearchCV\n",
    "import time\n",
    "import sklearn.metrics as metrics\n",
    "\n",
    "def K_Means(features, target, search_grid):\n",
    "    kmeans = KMeans()\n",
    "    kmeans_random = RandomizedSearchCV(estimator = kmeans, param_distributions = search_grid)\n",
    "    time_start = time.time()\n",
    "    \n",
    "    search = kmeans_random.fit(features, target)\n",
    "    k_final = search.best_estimator_\n",
    "    print('time taken: ', time.time() - time_start)\n",
    "    print(k_final)\n",
    "    print(search.best_score_)\n",
    "    return "
   ]
  },
  {
   "cell_type": "code",
   "execution_count": null,
   "metadata": {},
   "outputs": [],
   "source": [
    "n_clusters = [2,3,4,5,6,7,8,9,10] \n",
    "n_init = [2,5,10,20]\n",
    "max_iter = [300,600,1000]\n",
    "tol = [1e-4]\n",
    "precompute_distances = ['auto', True, False]\n",
    "njobs = [-1]\n",
    "algorithm = ['auto', 'full', 'elkan']\n",
    "\n",
    "random_grid = {\n",
    "    'n_clusters': n_clusters,\n",
    "    'n_init' : n_init,\n",
    "    'max_iter' : max_iter,\n",
    "    'tol' : tol,\n",
    "    'precompute_distances' : precompute_distances,\n",
    "    'n_jobs' : njobs,\n",
    "    'algorithm' : algorithm\n",
    "               }"
   ]
  },
  {
   "cell_type": "code",
   "execution_count": null,
   "metadata": {},
   "outputs": [],
   "source": [
    "K_Means(iris_data, iris_target, random_grid)"
   ]
  },
  {
   "cell_type": "code",
   "execution_count": null,
   "metadata": {},
   "outputs": [],
   "source": [
    "K_Means(wine_data, wine_target, random_grid)"
   ]
  },
  {
   "cell_type": "code",
   "execution_count": null,
   "metadata": {},
   "outputs": [],
   "source": [
    "K_Means(bcancer_data, bcancer_target, random_grid)"
   ]
  },
  {
   "cell_type": "code",
   "execution_count": null,
   "metadata": {},
   "outputs": [],
   "source": []
  }
 ],
 "metadata": {
  "kernelspec": {
   "display_name": "Python 3",
   "language": "python",
   "name": "python3"
  },
  "language_info": {
   "codemirror_mode": {
    "name": "ipython",
    "version": 3
   },
   "file_extension": ".py",
   "mimetype": "text/x-python",
   "name": "python",
   "nbconvert_exporter": "python",
   "pygments_lexer": "ipython3",
   "version": "3.7.3"
  }
 },
 "nbformat": 4,
 "nbformat_minor": 2
}
